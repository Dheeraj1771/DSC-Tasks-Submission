{
 "cells": [
  {
   "cell_type": "markdown",
   "id": "efbe15f9-8cd2-4a2f-b034-8f8649d5703f",
   "metadata": {},
   "source": [
    "# 1. Define the Real-World Problem &\n",
    "# 2. Build a Scikit-Learn Pipeline"
   ]
  },
  {
   "cell_type": "code",
   "execution_count": 9,
   "id": "cc8d44ac-52be-4c1b-8785-7b9b74d98358",
   "metadata": {},
   "outputs": [
    {
     "name": "stdout",
     "output_type": "stream",
     "text": [
      "Pipeline built successfully.\n"
     ]
    }
   ],
   "source": [
    "import pandas as pd\n",
    "from sklearn.model_selection import train_test_split\n",
    "from sklearn.pipeline import Pipeline\n",
    "from sklearn.compose import ColumnTransformer\n",
    "from sklearn.preprocessing import StandardScaler, OneHotEncoder, FunctionTransformer\n",
    "from sklearn.ensemble import RandomForestRegressor\n",
    "from sklearn.impute import SimpleImputer\n",
    "\n",
    "# Load the dataset \n",
    "df = pd.read_csv('hour.csv')\n",
    "\n",
    "# Drop unnecessary columns\n",
    "df = df.drop(columns=['instant', 'dteday', 'casual', 'registered'])\n",
    "\n",
    "# Target: 'cnt' (bike rental count)\n",
    "X = df.drop(columns=['cnt'])\n",
    "y = df['cnt']\n",
    "\n",
    "# Numerical and categorical columns\n",
    "numerical_features = ['temp', 'atemp', 'hum', 'windspeed']\n",
    "categorical_features = ['season', 'yr', 'mnth', 'hr', 'holiday', 'weekday', 'workingday', 'weathersit']\n",
    "\n",
    "# Feature engineering function (create new feature: temp * hum interaction)\n",
    "def feature_engineering(X):\n",
    "    X = X.copy()\n",
    "    X['temp_hum_interaction'] = X['temp'] * X['hum']\n",
    "    return X\n",
    "\n",
    "# Preprocessing for numerical features\n",
    "numerical_transformer = Pipeline(steps=[\n",
    "    ('imputer', SimpleImputer(strategy='mean')), \n",
    "    ('scaler', StandardScaler())\n",
    "])\n",
    "\n",
    "# Preprocessing for categorical features\n",
    "categorical_transformer = Pipeline(steps=[\n",
    "    ('imputer', SimpleImputer(strategy='most_frequent')),\n",
    "    ('onehot', OneHotEncoder(handle_unknown='ignore'))\n",
    "])\n",
    "\n",
    "# Combined preprocessor\n",
    "preprocessor = ColumnTransformer(\n",
    "    transformers=[\n",
    "        ('num', numerical_transformer, numerical_features),\n",
    "        ('cat', categorical_transformer, categorical_features)\n",
    "    ]\n",
    ")\n",
    "\n",
    "# Full pipeline: Preprocessing + Feature Engineering + Model\n",
    "pipeline = Pipeline(steps=[\n",
    "    ('feature_eng', FunctionTransformer(feature_engineering)),  # Add new feature before preprocessing\n",
    "    ('preprocessor', preprocessor),\n",
    "    ('model', RandomForestRegressor(n_estimators=100, random_state=42))\n",
    "])\n",
    "\n",
    "print(\"Pipeline built successfully.\")"
   ]
  },
  {
   "cell_type": "markdown",
   "id": "e71a24b0-ddbd-4306-b3fd-78dedf4d4965",
   "metadata": {},
   "source": [
    "# 3. Train, Test, and Evaluate the Pipeline"
   ]
  },
  {
   "cell_type": "code",
   "execution_count": 12,
   "id": "bc265be7-eb70-4711-be2b-636f63e4189f",
   "metadata": {},
   "outputs": [
    {
     "name": "stdout",
     "output_type": "stream",
     "text": [
      "Mean Squared Error (MSE): 2275.59\n",
      "R² Score: 0.93\n"
     ]
    }
   ],
   "source": [
    "from sklearn.metrics import mean_squared_error, r2_score\n",
    "\n",
    "# Split data into train/test sets\n",
    "X_train, X_test, y_train, y_test = train_test_split(X, y, test_size=0.2, random_state=42)\n",
    "\n",
    "# Train the pipeline\n",
    "pipeline.fit(X_train, y_train)\n",
    "\n",
    "# Predict on test set\n",
    "y_pred = pipeline.predict(X_test)\n",
    "\n",
    "# Evaluate\n",
    "mse = mean_squared_error(y_test, y_pred)\n",
    "r2 = r2_score(y_test, y_pred)\n",
    "\n",
    "print(f\"Mean Squared Error (MSE): {mse:.2f}\")\n",
    "print(f\"R² Score: {r2:.2f}\")"
   ]
  },
  {
   "cell_type": "code",
   "execution_count": null,
   "id": "feea924f-21c9-4bff-854e-866d3cbccf84",
   "metadata": {},
   "outputs": [],
   "source": []
  }
 ],
 "metadata": {
  "kernelspec": {
   "display_name": "Python [conda env:base] *",
   "language": "python",
   "name": "conda-base-py"
  },
  "language_info": {
   "codemirror_mode": {
    "name": "ipython",
    "version": 3
   },
   "file_extension": ".py",
   "mimetype": "text/x-python",
   "name": "python",
   "nbconvert_exporter": "python",
   "pygments_lexer": "ipython3",
   "version": "3.12.7"
  }
 },
 "nbformat": 4,
 "nbformat_minor": 5
}
